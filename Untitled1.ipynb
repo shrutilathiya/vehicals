{
  "nbformat": 4,
  "nbformat_minor": 0,
  "metadata": {
    "colab": {
      "provenance": []
    },
    "kernelspec": {
      "name": "python3",
      "display_name": "Python 3"
    },
    "language_info": {
      "name": "python"
    }
  },
  "cells": [
    {
      "cell_type": "code",
      "execution_count": null,
      "metadata": {
        "id": "EHyH0FEAavyi"
      },
      "outputs": [],
      "source": [
        "import numpy as np\n",
        "import tensorflow as tf\n",
        "import gradio as gr\n",
        "from tensorflow import keras\n",
        "from tensorflow.keras.models import Sequential, Model\n",
        "from tensorflow.keras.layers import Activation, Dense, Conv2D, MaxPool2D, Flatten\n",
        "from tensorflow.keras.optimizers import Adam\n",
        "from tensorflow.keras.metrics import categorical_crossentropy\n",
        "from tensorflow.keras.preprocessing.image import ImageDataGenerator\n",
        "from sklearn.metrics import confusion_matrix\n",
        "\n",
        "import itertools\n",
        "import os\n",
        "import shutil\n",
        "import random\n",
        "import glob\n",
        "import warnings\n",
        "import matplotlib.pyplot as plt\n",
        "warnings.simplefilter(action='ignore', category=FutureWarning)\n",
        "%matplotlib inline"
      ]
    },
    {
      "cell_type": "code",
      "source": [
        "from google.colab import drive\n",
        "drive.mount('/content/drive')"
      ],
      "metadata": {
        "id": "hxmEkchra6Uq"
      },
      "execution_count": null,
      "outputs": []
    },
    {
      "cell_type": "code",
      "source": [
        "import os\n",
        "# os.chdir(\"drive/\")\n",
        "os.getcwd()"
      ],
      "metadata": {
        "id": "pOvCCwvhc_IL"
      },
      "execution_count": null,
      "outputs": []
    },
    {
      "cell_type": "code",
      "source": [
        "train_path = 'drive/MyDrive/classroom/Dogorcat-master/train'#google driv path\n",
        "valid_path = 'drive/MyDrive/classroom/Dogorcat-master/valid'\n",
        "test_path = 'drive/MyDrive/classroom/Dogorcat-master/test'"
      ],
      "metadata": {
        "id": "G-sFwtdedDF4"
      },
      "execution_count": null,
      "outputs": []
    },
    {
      "cell_type": "code",
      "source": [
        "# tf.keras.applications.vgg16.preprocess_input [c1, c2, c3 .......c1000] , c1 = 0.1, c2 = .02, c3 = 0.66 ...\n",
        "# or\n",
        "# tf.keras.applications.mobilenet.preprocess_input\n",
        "train_batches = ImageDataGenerator(preprocessing_function = tf.keras.applications.mobilenet.preprocess_input) \\#NAME ADD\n",
        "                .flow_from_directory(directory=train_path, target_size=(224, 224), classes=['cat', 'dog'], batch_size=10)\n",
        "\n",
        "valid_batches = ImageDataGenerator(preprocessing_function = tf.keras.applications.mobilenet.preprocess_input) \\\n",
        "                .flow_from_directory(directory=valid_path, target_size=(224, 224), classes=['cat', 'dog'], batch_size=10)\n",
        "\n",
        "test_batches = ImageDataGenerator(preprocessing_function = tf.keras.applications.mobilenet.preprocess_input) \\\n",
        "                .flow_from_directory(directory=test_path, target_size=(224, 224), classes=['cat', 'dog'], batch_size=10"
      ],
      "metadata": {
        "id": "oWoh-GCBd1ol"
      },
      "execution_count": null,
      "outputs": []
    },
    {
      "cell_type": "code",
      "source": [
        "assert train_batches.n == 1000\n",
        "assert valid_batches.n == 200\n",
        "assert test_batches.n == 100\n",
        "\n",
        "assert train_batches.num_classes == valid_batches.num_classes == test_batches.num_classes == 2"
      ],
      "metadata": {
        "id": "diBA-sdCd-3b"
      },
      "execution_count": null,
      "outputs": []
    },
    {
      "cell_type": "code",
      "source": [
        "def classify_vehicle_by_plate(plate_text):\n",
        "    plate_text = plate_text.upper()\n",
        "    if \"T\" in plate_text:\n",
        "        return \"Tempo\"\n",
        "    elif \"W\" in plate_text:\n",
        "        return \"Tuwil\"\n",
        "    elif \"A\" in plate_text:\n",
        "        return \"Auto-Rickshaw\"\n",
        "    else:\n",
        "        return \"Car\"\n"
      ],
      "metadata": {
        "id": "XdeVy730emwr"
      },
      "execution_count": null,
      "outputs": []
    },
    {
      "cell_type": "code",
      "source": [
        "imgs, labels = next(train_batches)"
      ],
      "metadata": {
        "id": "5tAkBLaGeGFP"
      },
      "execution_count": null,
      "outputs": []
    },
    {
      "cell_type": "code",
      "source": [
        "reader = easyocr.Reader(['en'])\n"
      ],
      "metadata": {
        "id": "JfKIbUQ_eaqH"
      },
      "execution_count": null,
      "outputs": []
    },
    {
      "cell_type": "code",
      "source": [
        "def process_vehicle_image(image):\n",
        "    # OCR to read number plate\n",
        "    result = reader.readtext(image)\n",
        "    plate_text = \"\"\n",
        "    for (bbox, text, prob) in result:\n",
        "        if len(text) >= 4:  # crude filter for plate-like text\n",
        "            plate_text = text\n",
        "            break\n",
        "\n",
        "    if plate_text == \"\":\n",
        "        return \"No plate detected\", \"None\", False, False, False, False\n"
      ],
      "metadata": {
        "id": "98baT7yDeJZv"
      },
      "execution_count": null,
      "outputs": []
    },
    {
      "cell_type": "code",
      "source": [
        " vehicle_type = classify_vehicle_by_plate(plate_text)\n"
      ],
      "metadata": {
        "id": "WtHpI-RXfJO-"
      },
      "execution_count": null,
      "outputs": []
    },
    {
      "cell_type": "code",
      "source": [
        "return (\n",
        "        f\"Plate: {plate_text}\",\n",
        "        vehicle_type,\n",
        "        vehicle_type == \"Tempo\",\n",
        "        vehicle_type == \"Tuwil\",\n",
        "        vehicle_type == \"Auto-Rickshaw\",\n",
        "        vehicle_type == \"Car\"\n",
        "    )\n"
      ],
      "metadata": {
        "id": "ldWpbC1heoHa"
      },
      "execution_count": null,
      "outputs": []
    },
    {
      "cell_type": "code",
      "source": [
        "iface = gr.Interface(\n",
        "    fn=process_vehicle_image,\n",
        "    inputs=gr.Image(type=\"filepath\", label=\"Upload Vehicle Image\"),\n",
        "    outputs=[\n",
        "        gr.Textbox(label=\"Detected Plate\"),\n",
        "        gr.Textbox(label=\"Predicted Vehicle Type\"),\n",
        "        gr.Checkbox(label=\"Tempo\"),\n",
        "        gr.Checkbox(label=\"Tuwil\"),\n",
        "        gr.Checkbox(label=\"Auto-Rickshaw\"),\n",
        "        gr.Checkbox(label=\"Car\"),\n",
        "    ],\n",
        "    title=\"Vehicle Scanner\",\n",
        "    description=\"Upload vehicle image to detect number plate and classify vehicle type\"\n",
        ")\n",
        "\n"
      ],
      "metadata": {
        "id": "q89qpf-gfN3q"
      },
      "execution_count": null,
      "outputs": []
    },
    {
      "cell_type": "code",
      "source": [
        "iface.launch()"
      ],
      "metadata": {
        "id": "oDW1Vrd-fVGf"
      },
      "execution_count": null,
      "outputs": []
    }
  ]
}